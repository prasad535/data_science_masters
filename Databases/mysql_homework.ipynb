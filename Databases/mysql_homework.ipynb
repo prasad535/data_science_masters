{
 "cells": [
  {
   "cell_type": "markdown",
   "id": "4164f439-d5ff-473a-8ade-6c9a2e2ed83b",
   "metadata": {},
   "source": [
    "### Q1. What is a database? Differentiate between SQL and NoSQL databases."
   ]
  },
  {
   "cell_type": "markdown",
   "id": "6e48f1de-fda7-4ae7-b768-7536b40c54a0",
   "metadata": {},
   "source": [
    "**Database**: Database are organized systems to store the data. It allows to access and manage the data.\n",
    "\n",
    "SQL Databases:\n",
    "\n",
    "    - It is relational database. Data is organized in structured way like tables with rows and columns.\n",
    "    - It uses a schema to define the structure, relationships and constraints.\n",
    "    - Structred Query language is used to accesing, update and manage the data. \n",
    "    - Examples: MySQL, Microsoft SQL Server, Oracle, PostgreSQL\n",
    "    \n",
    "NoSQL Database:\n",
    "\n",
    "    - It is non-relational databases, flexible to store unstructured or semi structured data. Allows to store the data in various formats like document type, key-value pairs et.,\n",
    "    - There is no need to define and follow the particular schema.\n",
    "    - Example: MongoDB, Cassandra, Neo4j\n",
    "    "
   ]
  },
  {
   "cell_type": "markdown",
   "id": "94d0ef23-f184-4c7b-9f5f-4bf83b73e82a",
   "metadata": {},
   "source": [
    "### Q2. What is DDL? Explain why CREATE, DROP, ALTER, and TRUNCATE are used with an example."
   ]
  },
  {
   "cell_type": "markdown",
   "id": "e4e2c81e-5c4e-41ce-969e-00e019b08f49",
   "metadata": {},
   "source": [
    "**DDL:** Data Defination Language. It is used to define, modify and manage the structure of database and its objects.\n",
    "\n",
    "    1. CREATE: Command to create new objects in database. \n",
    "        - CREATE TABLE test_table( Name VARCHAR(25), age INT);\n",
    "    2. DROP: Command used to remove the objects from the database.\n",
    "        - DROP TABLE test_table;\n",
    "    3. ALTER: Command used to modify existing objects and adding new columns to the table.\n",
    "        - ALTER TABLE test_table ADD column mobile_number NUMBER;\n",
    "    4. TRUNCATE: Command used to remove all the data from the table but the table and it structure remains. \n",
    "        - TRUNCATE TABLE test_table;\n",
    "        \n",
    "    "
   ]
  },
  {
   "cell_type": "markdown",
   "id": "845d4455-91cb-47e3-851f-29777d2ab491",
   "metadata": {},
   "source": [
    "### Q3. What is DML? Explain INSERT, UPDATE, and DELETE with an example."
   ]
  },
  {
   "cell_type": "markdown",
   "id": "213147e6-5130-481f-a670-00838146994c",
   "metadata": {},
   "source": [
    "**DML**: Data Manipulation Language. Commands are used to manage the data in tables.\n",
    "\n",
    "    1. INSERT: Command used to insert values into the table:\n",
    "        - INSERT INTO test_table VALUES ('Prasad', 25, 9867832323);\n",
    "    2. UPDATE: Command used to update the existing record/row in the table.\n",
    "        - UPDATE test_table SET age=24 WHERE Name='Prasad';\n",
    "    3. DELETE: Command used to removes record from the table.\n",
    "        - DELETE from test_table WHERE Name = 'Prasad';"
   ]
  },
  {
   "cell_type": "markdown",
   "id": "d2a13687-bc0b-458f-beea-38a49d5ff2f9",
   "metadata": {},
   "source": [
    "### Q4. What is DQL? Explain SELECT with an example."
   ]
  },
  {
   "cell_type": "markdown",
   "id": "85f03db7-4c0b-489a-af53-c21e6a1cfe31",
   "metadata": {},
   "source": [
    "**DQL**: Data Query Language. It used to retrive and query the data from the database.\n",
    "\n",
    "    1. SELECT: Command used to retrive the data from the tables. We can specify the list of columns to retrive from the table.\n",
    "        - SELECT * FROM test_table; ( # Select all the columns)\n",
    "        - SELECT Name FROM test_table; (# select only Name column in test_table)\n",
    "        - SELECT Name, mobile_number FROM test_table WHERE age= 24;   (# Select Name, mobile records where age column match 24)"
   ]
  },
  {
   "cell_type": "markdown",
   "id": "0a779e3c-2285-46fd-9262-dbf73b910844",
   "metadata": {},
   "source": [
    "### Q5. Explain Primary Key and Foreign Key."
   ]
  },
  {
   "cell_type": "markdown",
   "id": "fd0cb9f6-1398-4aaa-8847-1ec3e68dad23",
   "metadata": {},
   "source": [
    "**Primary KEy**: Key is field or set of fields that can uniquely identify the record in the table. It cannot contain NULL values. \n",
    "\n",
    "**Foreign Key**: It a column or set of columns that is referenced to primary key of the other table. it allows to build the relationship between the tables. The values in foreign key match with the values in primary key of another table. It can contain NULL values as well."
   ]
  },
  {
   "cell_type": "markdown",
   "id": "58d3d4bd-6025-498b-906e-b14341e9d4a7",
   "metadata": {},
   "source": [
    "### Q6. Write a python code to connect MySQL to python. Explain the cursor() and execute() method."
   ]
  },
  {
   "cell_type": "markdown",
   "id": "0c9cc6e2-a309-4c2e-8b01-706182a84cd0",
   "metadata": {},
   "source": [
    "\n",
    "```python\n",
    "import mysql.connector\n",
    "\n",
    "mydb = mysql.connector.connect(\n",
    "    host = \"\",   # Hostname where MySQL installed\n",
    "    user = \"\", # Username which has access to MySQL\n",
    "    password = \"\" # password for username\n",
    ")\n",
    "```\n"
   ]
  },
  {
   "cell_type": "markdown",
   "id": "0fc521ca-c57b-47c9-b281-12b3b9b5f0bb",
   "metadata": {},
   "source": [
    "```python\n",
    "mycursor = mydb.cursor()\n",
    "```\n",
    "- Method create connection and used to interact with MySQL database \n",
    "    \n",
    "```python\n",
    "mycursor.execute(\"SELECT * FROM test_table\")\n",
    "```\n",
    "- execute() method is used to execute the SQL commands \n"
   ]
  },
  {
   "cell_type": "markdown",
   "id": "4d231462-0a25-4b3f-baef-189ad6bb4e7a",
   "metadata": {},
   "source": [
    "### Q7. Give the order of execution of SQL clauses in an SQL query."
   ]
  },
  {
   "cell_type": "markdown",
   "id": "657c7d52-55fd-40f1-8e64-e3b1641d08a8",
   "metadata": {},
   "source": [
    "```python\n",
    "SELECT column1, column2\n",
    "FROM table_name\n",
    "WHERE condition\n",
    "GROUP BY column1\n",
    "HAVING condition\n",
    "ORDER BY column1\n",
    "\n",
    "```\n",
    "- FROM: Specifies the tables or views from which the data will be retrieved.\n",
    "- WHERE: Filters the rows based on specified conditions.\n",
    "- GROUP BY: Groups the result set based on specified columns.\n",
    "- HAVING: Filters the grouped rows based on specified conditions (similar to WHERE but for grouped data).\n",
    "- SELECT: Determines the columns that will be included in the result set.\n",
    "- ORDER BY: Sorts the result set based on specified columns.\n",
    "- LIMIT/OFFSET: Limits the number of rows returned and specifies the starting point for result retrieval (not available in all SQL databases).\n"
   ]
  }
 ],
 "metadata": {
  "kernelspec": {
   "display_name": "Python 3 (ipykernel)",
   "language": "python",
   "name": "python3"
  },
  "language_info": {
   "codemirror_mode": {
    "name": "ipython",
    "version": 3
   },
   "file_extension": ".py",
   "mimetype": "text/x-python",
   "name": "python",
   "nbconvert_exporter": "python",
   "pygments_lexer": "ipython3",
   "version": "3.10.8"
  }
 },
 "nbformat": 4,
 "nbformat_minor": 5
}
